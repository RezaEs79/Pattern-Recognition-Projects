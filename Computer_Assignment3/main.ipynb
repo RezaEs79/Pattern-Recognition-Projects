{
 "cells": [
  {
   "cell_type": "code",
   "execution_count": null,
   "metadata": {},
   "outputs": [],
   "source": [
    "## Computer Assignment 3 (Perseptron, Least square, Logistic Discrimination)\n",
    "from src import *\n",
    "file_path = 'Computer_Assignment_3_Data.xlsx'\n",
    "# Read the Excel file into a pandas DataFrame\n",
    "df = pd.read_excel(file_path, header=[0, 1])\n",
    "# Separate each class\n",
    "W1 = np.array(df['ω1'])\n",
    "W2 = np.array(df['ω2'])\n",
    "W3 = np.array(df['ω3'])\n",
    "W4 = np.array(df['ω4'])"
   ]
  },
  {
   "cell_type": "code",
   "execution_count": null,
   "metadata": {},
   "outputs": [],
   "source": [
    "## perceptron algorithm (Write a program to implement the Perceptron algorithm)\n",
    "X = np.vstack([W1, W2])\n",
    "# Labels for class 1 and class 2\n",
    "class1_labels = np.ones(len(W1))\n",
    "class2_labels = -1 * np.ones(len(W2))\n",
    "y = np.hstack([class1_labels, class2_labels])\n",
    "weights, errors = perceptron_algorithm(X, y, pr='off')\n",
    "if weights[1] != 0 or weights[0]!=0:\n",
    "    print(\"\\nNo samples changed the vector of weights => the algorithm was fixed and the linear classifier was found\")\n",
    "# Plot the data points and the decision boundary\n",
    "show_result(W1,W2,weights)"
   ]
  },
  {
   "cell_type": "code",
   "execution_count": null,
   "metadata": {},
   "outputs": [],
   "source": [
    "## least_squares algorithm (Write a program to implement the least squares)\n",
    "X = np.vstack([W3, W2])\n",
    "# Labels for class 1 and class 2\n",
    "class1_labels = np.ones(len(W3))\n",
    "class2_labels = -1 * np.ones(len(W2))\n",
    "y = np.hstack([class1_labels, class2_labels])\n",
    "coefficients = least_squares(X, y)\n",
    "show_result(W3,W2,coefficients)"
   ]
  },
  {
   "cell_type": "code",
   "execution_count": null,
   "metadata": {},
   "outputs": [],
   "source": [
    "##  multi-category generalization of Logistic Discrimination.\n",
    "data = np.vstack([W1, W2, W3, W4])\n",
    "# labels for classes\n",
    "class1_labels = 1 * np.ones(len(W1))\n",
    "class2_labels = 2 * np.ones(len(W2))\n",
    "class3_labels = 3 * np.ones(len(W3))\n",
    "class4_labels = 4 * np.ones(len(W4))\n",
    "y = np.hstack([class1_labels, class2_labels, class3_labels, class4_labels])\n",
    "# Concatenate y and data along the second axis (axis=1)\n",
    "concatenated_data = np.concatenate((y.reshape(-1, 1), data), axis=1)\n",
    "# One-vs-all\n",
    "w_one_vs_all = one_vs_all(data, y, 4)\n",
    "# One-vs-one\n",
    "w_one_vs_one = one_vs_one(data, y, 4)\n",
    "# plot-One-vs-all\n",
    "plot_logsim_one_vs_all(concatenated_data,w_one_vs_all)\n",
    "# plot-One-vs-one\n",
    "plot_logsim_one_vs_one(concatenated_data,w_one_vs_one)\n"
   ]
  }
 ],
 "metadata": {
  "kernelspec": {
   "display_name": "new-env",
   "language": "python",
   "name": "python3"
  },
  "language_info": {
   "codemirror_mode": {
    "name": "ipython",
    "version": 3
   },
   "file_extension": ".py",
   "mimetype": "text/x-python",
   "name": "python",
   "nbconvert_exporter": "python",
   "pygments_lexer": "ipython3",
   "version": "3.10.12"
  }
 },
 "nbformat": 4,
 "nbformat_minor": 2
}
