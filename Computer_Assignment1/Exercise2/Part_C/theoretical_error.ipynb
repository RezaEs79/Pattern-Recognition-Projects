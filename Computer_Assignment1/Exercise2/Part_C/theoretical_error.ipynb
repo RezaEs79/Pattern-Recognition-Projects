{
 "cells": [
  {
   "cell_type": "code",
   "execution_count": 1,
   "metadata": {},
   "outputs": [
    {
     "name": "stdout",
     "output_type": "stream",
     "text": [
      "Theoretical error rate = 0.07864960352514257\n"
     ]
    }
   ],
   "source": [
    "import numpy as np\n",
    "import numpy as np\n",
    "from scipy.integrate import quad\n",
    "from src3 import *\n",
    "# Define the mean vector\n",
    "mean1 = np.array([0, 0])\n",
    "mean2 = np.array([4, 0])\n",
    "# Define the covariance matrix\n",
    "covariance_matrix = np.array([\n",
    "    [2, 0],\n",
    "    [0, 2]])\n",
    "\n",
    "# Compute the Mahalanobis distance for each data point\n",
    "dm=mahalanobis_distance(mean2 - mean1, covariance_matrix)\n",
    "def integrand(x):\n",
    "    return np.exp(-x**2/2) / np.sqrt(2*np.pi)\n",
    "\n",
    "# Compute the integral using quad\n",
    "integral_value, error = quad(integrand, dm/2, np.inf)\n",
    "\n",
    "# Print the integral value and error\n",
    "print(\"Theoretical error rate =\", integral_value)"
   ]
  }
 ],
 "metadata": {
  "kernelspec": {
   "display_name": "new-env",
   "language": "python",
   "name": "python3"
  },
  "language_info": {
   "codemirror_mode": {
    "name": "ipython",
    "version": 3
   },
   "file_extension": ".py",
   "mimetype": "text/x-python",
   "name": "python",
   "nbconvert_exporter": "python",
   "pygments_lexer": "ipython3",
   "version": "3.10.12"
  }
 },
 "nbformat": 4,
 "nbformat_minor": 2
}
